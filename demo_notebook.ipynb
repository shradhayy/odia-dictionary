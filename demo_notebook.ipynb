{
  "nbformat": 4,
  "nbformat_minor": 0,
  "metadata": {
    "colab": {
      "provenance": []
    },
    "kernelspec": {
      "name": "python3",
      "display_name": "Python 3"
    },
    "language_info": {
      "name": "python"
    }
  },
  "cells": [
    {
      "cell_type": "code",
      "source": [
        "!wget https://github.com/shrivastava95/odia-dictionary/raw/main/Odia.Dictionary.pdf"
      ],
      "metadata": {
        "colab": {
          "base_uri": "https://localhost:8080/"
        },
        "id": "XBFnBhz6TB8J",
        "outputId": "6db8f1f7-9a7e-4396-bec5-1bd4d4879450"
      },
      "execution_count": 1,
      "outputs": [
        {
          "output_type": "stream",
          "name": "stdout",
          "text": [
            "--2023-05-27 22:23:08--  https://github.com/shrivastava95/odia-dictionary/raw/main/Odia.Dictionary.pdf\n",
            "Resolving github.com (github.com)... 140.82.114.4\n",
            "Connecting to github.com (github.com)|140.82.114.4|:443... connected.\n",
            "HTTP request sent, awaiting response... 302 Found\n",
            "Location: https://raw.githubusercontent.com/shrivastava95/odia-dictionary/main/Odia.Dictionary.pdf [following]\n",
            "--2023-05-27 22:23:08--  https://raw.githubusercontent.com/shrivastava95/odia-dictionary/main/Odia.Dictionary.pdf\n",
            "Resolving raw.githubusercontent.com (raw.githubusercontent.com)... 185.199.109.133, 185.199.111.133, 185.199.108.133, ...\n",
            "Connecting to raw.githubusercontent.com (raw.githubusercontent.com)|185.199.109.133|:443... connected.\n",
            "HTTP request sent, awaiting response... 200 OK\n",
            "Length: 4181737 (4.0M) [application/octet-stream]\n",
            "Saving to: ‘Odia.Dictionary.pdf’\n",
            "\n",
            "Odia.Dictionary.pdf 100%[===================>]   3.99M  --.-KB/s    in 0.07s   \n",
            "\n",
            "2023-05-27 22:23:09 (54.7 MB/s) - ‘Odia.Dictionary.pdf’ saved [4181737/4181737]\n",
            "\n"
          ]
        }
      ]
    },
    {
      "cell_type": "markdown",
      "source": [
        "# Dependencies / Setup\n",
        "Most of these will need to be setup while you are running the repository code too, so this should help you setup on your own device to run the main repo scripts."
      ],
      "metadata": {
        "id": "2xzkyC-tTzHM"
      }
    },
    {
      "cell_type": "markdown",
      "source": [
        "## 1. pdf2image setup"
      ],
      "metadata": {
        "id": "qrE3NXYDY64O"
      }
    },
    {
      "cell_type": "code",
      "source": [
        "# poppler - https://pdf2image.readthedocs.io/en/latest/installation.html\n",
        "# Poppler is the underlying project that does the magic in pdf2image.\n",
        "!sudo apt-get install poppler-utils\n",
        "!pdftoppm -h"
      ],
      "metadata": {
        "colab": {
          "base_uri": "https://localhost:8080/"
        },
        "id": "LlXHn9SKTIqE",
        "outputId": "4edf937a-4e3d-4a4e-ae68-fd67ecc22393"
      },
      "execution_count": 2,
      "outputs": [
        {
          "output_type": "stream",
          "name": "stdout",
          "text": [
            "Reading package lists... Done\n",
            "Building dependency tree       \n",
            "Reading state information... Done\n",
            "The following NEW packages will be installed:\n",
            "  poppler-utils\n",
            "0 upgraded, 1 newly installed, 0 to remove and 34 not upgraded.\n",
            "Need to get 174 kB of archives.\n",
            "After this operation, 754 kB of additional disk space will be used.\n",
            "Get:1 http://archive.ubuntu.com/ubuntu focal-updates/main amd64 poppler-utils amd64 0.86.1-0ubuntu1.1 [174 kB]\n",
            "Fetched 174 kB in 1s (309 kB/s)\n",
            "debconf: unable to initialize frontend: Dialog\n",
            "debconf: (No usable dialog-like program is installed, so the dialog based frontend cannot be used. at /usr/share/perl5/Debconf/FrontEnd/Dialog.pm line 76, <> line 1.)\n",
            "debconf: falling back to frontend: Readline\n",
            "debconf: unable to initialize frontend: Readline\n",
            "debconf: (This frontend requires a controlling tty.)\n",
            "debconf: falling back to frontend: Teletype\n",
            "dpkg-preconfigure: unable to re-open stdin: \n",
            "Selecting previously unselected package poppler-utils.\n",
            "(Reading database ... 122545 files and directories currently installed.)\n",
            "Preparing to unpack .../poppler-utils_0.86.1-0ubuntu1.1_amd64.deb ...\n",
            "Unpacking poppler-utils (0.86.1-0ubuntu1.1) ...\n",
            "Setting up poppler-utils (0.86.1-0ubuntu1.1) ...\n",
            "Processing triggers for man-db (2.9.1-1) ...\n",
            "pdftoppm version 0.86.1\n",
            "Copyright 2005-2020 The Poppler Developers - http://poppler.freedesktop.org\n",
            "Copyright 1996-2011 Glyph & Cog, LLC\n",
            "Usage: pdftoppm [options] [PDF-file [PPM-file-prefix]]\n",
            "  -f <int>                                 : first page to print\n",
            "  -l <int>                                 : last page to print\n",
            "  -o                                       : print only odd pages\n",
            "  -e                                       : print only even pages\n",
            "  -singlefile                              : write only the first page and do not add digits\n",
            "  -scale-dimension-before-rotation         : for rotated pdf, resize dimensions before the rotation\n",
            "  -r <fp>                                  : resolution, in DPI (default is 150)\n",
            "  -rx <fp>                                 : X resolution, in DPI (default is 150)\n",
            "  -ry <fp>                                 : Y resolution, in DPI (default is 150)\n",
            "  -scale-to <int>                          : scales each page to fit within scale-to*scale-to pixel box\n",
            "  -scale-to-x <int>                        : scales each page horizontally to fit in scale-to-x pixels\n",
            "  -scale-to-y <int>                        : scales each page vertically to fit in scale-to-y pixels\n",
            "  -x <int>                                 : x-coordinate of the crop area top left corner\n",
            "  -y <int>                                 : y-coordinate of the crop area top left corner\n",
            "  -W <int>                                 : width of crop area in pixels (default is 0)\n",
            "  -H <int>                                 : height of crop area in pixels (default is 0)\n",
            "  -sz <int>                                : size of crop square in pixels (sets W and H)\n",
            "  -cropbox                                 : use the crop box rather than media box\n",
            "  -hide-annotations                        : do not show annotations\n",
            "  -mono                                    : generate a monochrome PBM file\n",
            "  -gray                                    : generate a grayscale PGM file\n",
            "  -sep <string>                            : single character separator between name and page number, default - \n",
            "  -forcenum                                : force page number even if there is only one page \n",
            "  -png                                     : generate a PNG file\n",
            "  -jpeg                                    : generate a JPEG file\n",
            "  -jpegcmyk                                : generate a CMYK JPEG file\n",
            "  -jpegopt <string>                        : jpeg options, with format <opt1>=<val1>[,<optN>=<valN>]*\n",
            "  -overprint                               : enable overprint\n",
            "  -tiff                                    : generate a TIFF file\n",
            "  -tiffcompression <string>                : set TIFF compression: none, packbits, jpeg, lzw, deflate\n",
            "  -freetype <string>                       : enable FreeType font rasterizer: yes, no\n",
            "  -thinlinemode <string>                   : set thin line mode: none, solid, shape. Default: none\n",
            "  -aa <string>                             : enable font anti-aliasing: yes, no\n",
            "  -aaVector <string>                       : enable vector anti-aliasing: yes, no\n",
            "  -opw <string>                            : owner password (for encrypted files)\n",
            "  -upw <string>                            : user password (for encrypted files)\n",
            "  -q                                       : don't print any messages or errors\n",
            "  -v                                       : print copyright and version info\n",
            "  -h                                       : print usage information\n",
            "  -help                                    : print usage information\n",
            "  --help                                   : print usage information\n",
            "  -?                                       : print usage information\n"
          ]
        }
      ]
    },
    {
      "cell_type": "code",
      "source": [
        "# pdf2image\n",
        "!pip install pdf2image"
      ],
      "metadata": {
        "colab": {
          "base_uri": "https://localhost:8080/"
        },
        "id": "AhgB5GF-ULvu",
        "outputId": "3fe259f5-e4b2-4a28-8aed-98d0eb11b9e0"
      },
      "execution_count": 3,
      "outputs": [
        {
          "output_type": "stream",
          "name": "stdout",
          "text": [
            "Looking in indexes: https://pypi.org/simple, https://us-python.pkg.dev/colab-wheels/public/simple/\n",
            "Collecting pdf2image\n",
            "  Downloading pdf2image-1.16.3-py3-none-any.whl (11 kB)\n",
            "Requirement already satisfied: pillow in /usr/local/lib/python3.10/dist-packages (from pdf2image) (8.4.0)\n",
            "Installing collected packages: pdf2image\n",
            "Successfully installed pdf2image-1.16.3\n"
          ]
        }
      ]
    },
    {
      "cell_type": "markdown",
      "source": [
        "## 2. Tesseract OCR setup"
      ],
      "metadata": {
        "id": "GAPVpTuXZIMr"
      }
    },
    {
      "cell_type": "code",
      "source": [
        "!sudo apt install tesseract-ocr"
      ],
      "metadata": {
        "colab": {
          "base_uri": "https://localhost:8080/"
        },
        "id": "JiEoXwTnZXrk",
        "outputId": "c26566a4-01d9-45d1-a9da-ae71e7510fc4"
      },
      "execution_count": 5,
      "outputs": [
        {
          "output_type": "stream",
          "name": "stdout",
          "text": [
            "Reading package lists... Done\n",
            "Building dependency tree       \n",
            "Reading state information... Done\n",
            "The following additional packages will be installed:\n",
            "  tesseract-ocr-eng tesseract-ocr-osd\n",
            "The following NEW packages will be installed:\n",
            "  tesseract-ocr tesseract-ocr-eng tesseract-ocr-osd\n",
            "0 upgraded, 3 newly installed, 0 to remove and 34 not upgraded.\n",
            "Need to get 4,850 kB of archives.\n",
            "After this operation, 16.3 MB of additional disk space will be used.\n",
            "Get:1 http://archive.ubuntu.com/ubuntu focal/universe amd64 tesseract-ocr-eng all 1:4.00~git30-7274cfa-1 [1,598 kB]\n",
            "Get:2 http://archive.ubuntu.com/ubuntu focal/universe amd64 tesseract-ocr-osd all 1:4.00~git30-7274cfa-1 [2,990 kB]\n",
            "Get:3 http://archive.ubuntu.com/ubuntu focal/universe amd64 tesseract-ocr amd64 4.1.1-2build2 [262 kB]\n",
            "Fetched 4,850 kB in 1s (4,388 kB/s)\n",
            "debconf: unable to initialize frontend: Dialog\n",
            "debconf: (No usable dialog-like program is installed, so the dialog based frontend cannot be used. at /usr/share/perl5/Debconf/FrontEnd/Dialog.pm line 76, <> line 3.)\n",
            "debconf: falling back to frontend: Readline\n",
            "debconf: unable to initialize frontend: Readline\n",
            "debconf: (This frontend requires a controlling tty.)\n",
            "debconf: falling back to frontend: Teletype\n",
            "dpkg-preconfigure: unable to re-open stdin: \n",
            "Selecting previously unselected package tesseract-ocr-eng.\n",
            "(Reading database ... 122575 files and directories currently installed.)\n",
            "Preparing to unpack .../tesseract-ocr-eng_1%3a4.00~git30-7274cfa-1_all.deb ...\n",
            "Unpacking tesseract-ocr-eng (1:4.00~git30-7274cfa-1) ...\n",
            "Selecting previously unselected package tesseract-ocr-osd.\n",
            "Preparing to unpack .../tesseract-ocr-osd_1%3a4.00~git30-7274cfa-1_all.deb ...\n",
            "Unpacking tesseract-ocr-osd (1:4.00~git30-7274cfa-1) ...\n",
            "Selecting previously unselected package tesseract-ocr.\n",
            "Preparing to unpack .../tesseract-ocr_4.1.1-2build2_amd64.deb ...\n",
            "Unpacking tesseract-ocr (4.1.1-2build2) ...\n",
            "Setting up tesseract-ocr-eng (1:4.00~git30-7274cfa-1) ...\n",
            "Setting up tesseract-ocr-osd (1:4.00~git30-7274cfa-1) ...\n",
            "Setting up tesseract-ocr (4.1.1-2build2) ...\n",
            "Processing triggers for man-db (2.9.1-1) ...\n"
          ]
        }
      ]
    },
    {
      "cell_type": "code",
      "source": [
        "!wget https://github.com/tesseract-ocr/tessdata/raw/3.04.00/ori.traineddata -O /usr/share/tesseract-ocr/4.00/tessdata/ori.traineddata\n",
        "!dir /usr/share/tesseract-ocr/4.00/tessdata"
      ],
      "metadata": {
        "colab": {
          "base_uri": "https://localhost:8080/"
        },
        "id": "_g9WKVSMaJG-",
        "outputId": "96c96882-294f-49e7-839e-ab93d6111d5d"
      },
      "execution_count": 19,
      "outputs": [
        {
          "output_type": "stream",
          "name": "stdout",
          "text": [
            "--2023-05-27 22:55:10--  https://github.com/tesseract-ocr/tessdata/raw/3.04.00/ori.traineddata\n",
            "Resolving github.com (github.com)... 140.82.114.3\n",
            "Connecting to github.com (github.com)|140.82.114.3|:443... connected.\n",
            "HTTP request sent, awaiting response... 302 Found\n",
            "Location: https://raw.githubusercontent.com/tesseract-ocr/tessdata/3.04.00/ori.traineddata [following]\n",
            "--2023-05-27 22:55:10--  https://raw.githubusercontent.com/tesseract-ocr/tessdata/3.04.00/ori.traineddata\n",
            "Resolving raw.githubusercontent.com (raw.githubusercontent.com)... 185.199.108.133, 185.199.109.133, 185.199.110.133, ...\n",
            "Connecting to raw.githubusercontent.com (raw.githubusercontent.com)|185.199.108.133|:443... connected.\n",
            "HTTP request sent, awaiting response... 200 OK\n",
            "Length: 7900659 (7.5M) [application/octet-stream]\n",
            "Saving to: ‘/usr/share/tesseract-ocr/4.00/tessdata/ori.traineddata’\n",
            "\n",
            "\r          /usr/shar   0%[                    ]       0  --.-KB/s               \r/usr/share/tesserac 100%[===================>]   7.53M  --.-KB/s    in 0.09s   \n",
            "\n",
            "2023-05-27 22:55:10 (88.0 MB/s) - ‘/usr/share/tesseract-ocr/4.00/tessdata/ori.traineddata’ saved [7900659/7900659]\n",
            "\n",
            "configs\t\t ori.traineddata  pdf.ttf\n",
            "eng.traineddata  osd.traineddata  tessconfigs\n"
          ]
        }
      ]
    },
    {
      "cell_type": "code",
      "source": [
        "!tesseract --list-langs"
      ],
      "metadata": {
        "colab": {
          "base_uri": "https://localhost:8080/"
        },
        "id": "OIro6pnOZ5dR",
        "outputId": "f007778b-055e-4cbf-fcd5-c19c5ca7f16b"
      },
      "execution_count": 22,
      "outputs": [
        {
          "output_type": "stream",
          "name": "stdout",
          "text": [
            "List of available languages (3):\n",
            "eng\n",
            "ori\n",
            "osd\n"
          ]
        }
      ]
    },
    {
      "cell_type": "code",
      "source": [
        "!pip install pytesseract"
      ],
      "metadata": {
        "colab": {
          "base_uri": "https://localhost:8080/"
        },
        "id": "ckdrza0HceE9",
        "outputId": "b5566225-9baa-4e3c-d129-5f1a9a72332a"
      },
      "execution_count": 23,
      "outputs": [
        {
          "output_type": "stream",
          "name": "stdout",
          "text": [
            "Looking in indexes: https://pypi.org/simple, https://us-python.pkg.dev/colab-wheels/public/simple/\n",
            "Collecting pytesseract\n",
            "  Downloading pytesseract-0.3.10-py3-none-any.whl (14 kB)\n",
            "Requirement already satisfied: packaging>=21.3 in /usr/local/lib/python3.10/dist-packages (from pytesseract) (23.1)\n",
            "Requirement already satisfied: Pillow>=8.0.0 in /usr/local/lib/python3.10/dist-packages (from pytesseract) (8.4.0)\n",
            "Installing collected packages: pytesseract\n",
            "Successfully installed pytesseract-0.3.10\n"
          ]
        }
      ]
    },
    {
      "cell_type": "markdown",
      "source": [
        "## 3. PyPDF2 PDF Reader setup"
      ],
      "metadata": {
        "id": "8pHiJJybdCE0"
      }
    },
    {
      "cell_type": "code",
      "source": [
        "!pip install PyPDF2"
      ],
      "metadata": {
        "colab": {
          "base_uri": "https://localhost:8080/"
        },
        "id": "GNEOfpnxeTiG",
        "outputId": "1384fe9c-d1d8-43fd-c4a9-341cd3f00883"
      },
      "execution_count": 28,
      "outputs": [
        {
          "output_type": "stream",
          "name": "stdout",
          "text": [
            "Looking in indexes: https://pypi.org/simple, https://us-python.pkg.dev/colab-wheels/public/simple/\n",
            "Collecting PyPDF2\n",
            "  Downloading pypdf2-3.0.1-py3-none-any.whl (232 kB)\n",
            "\u001b[2K     \u001b[90m━━━━━━━━━━━━━━━━━━━━━━━━━━━━━━━━━━━━━━━\u001b[0m \u001b[32m232.6/232.6 kB\u001b[0m \u001b[31m4.9 MB/s\u001b[0m eta \u001b[36m0:00:00\u001b[0m\n",
            "\u001b[?25hInstalling collected packages: PyPDF2\n",
            "Successfully installed PyPDF2-3.0.1\n"
          ]
        }
      ]
    },
    {
      "cell_type": "markdown",
      "source": [
        "## 4. OpenAI API setup !IMPORTANT!\n",
        "\n",
        "Get your OpenAI secret key from https://platform.openai.com/account/api-keys and assign it to the `OPENAI_API_KEY` variable "
      ],
      "metadata": {
        "id": "S3CH4MHuf-yn"
      }
    },
    {
      "cell_type": "code",
      "source": [
        "OPENAI_API_KEY = ..."
      ],
      "metadata": {
        "id": "kvRu860RBXKp"
      },
      "execution_count": 38,
      "outputs": []
    },
    {
      "cell_type": "code",
      "source": [
        "!pip install openai"
      ],
      "metadata": {
        "colab": {
          "base_uri": "https://localhost:8080/"
        },
        "id": "t6FjQqtbgVjZ",
        "outputId": "c906b088-4033-4dc7-c58f-daf1b74b050a"
      },
      "execution_count": 50,
      "outputs": [
        {
          "output_type": "stream",
          "name": "stdout",
          "text": [
            "Looking in indexes: https://pypi.org/simple, https://us-python.pkg.dev/colab-wheels/public/simple/\n",
            "Requirement already satisfied: openai in /usr/local/lib/python3.10/dist-packages (0.27.7)\n",
            "Requirement already satisfied: requests>=2.20 in /usr/local/lib/python3.10/dist-packages (from openai) (2.27.1)\n",
            "Requirement already satisfied: tqdm in /usr/local/lib/python3.10/dist-packages (from openai) (4.65.0)\n",
            "Requirement already satisfied: aiohttp in /usr/local/lib/python3.10/dist-packages (from openai) (3.8.4)\n",
            "Requirement already satisfied: urllib3<1.27,>=1.21.1 in /usr/local/lib/python3.10/dist-packages (from requests>=2.20->openai) (1.26.15)\n",
            "Requirement already satisfied: certifi>=2017.4.17 in /usr/local/lib/python3.10/dist-packages (from requests>=2.20->openai) (2022.12.7)\n",
            "Requirement already satisfied: charset-normalizer~=2.0.0 in /usr/local/lib/python3.10/dist-packages (from requests>=2.20->openai) (2.0.12)\n",
            "Requirement already satisfied: idna<4,>=2.5 in /usr/local/lib/python3.10/dist-packages (from requests>=2.20->openai) (3.4)\n",
            "Requirement already satisfied: attrs>=17.3.0 in /usr/local/lib/python3.10/dist-packages (from aiohttp->openai) (23.1.0)\n",
            "Requirement already satisfied: multidict<7.0,>=4.5 in /usr/local/lib/python3.10/dist-packages (from aiohttp->openai) (6.0.4)\n",
            "Requirement already satisfied: async-timeout<5.0,>=4.0.0a3 in /usr/local/lib/python3.10/dist-packages (from aiohttp->openai) (4.0.2)\n",
            "Requirement already satisfied: yarl<2.0,>=1.0 in /usr/local/lib/python3.10/dist-packages (from aiohttp->openai) (1.9.2)\n",
            "Requirement already satisfied: frozenlist>=1.1.1 in /usr/local/lib/python3.10/dist-packages (from aiohttp->openai) (1.3.3)\n",
            "Requirement already satisfied: aiosignal>=1.1.2 in /usr/local/lib/python3.10/dist-packages (from aiohttp->openai) (1.3.1)\n"
          ]
        }
      ]
    },
    {
      "cell_type": "markdown",
      "source": [
        "# Parsing Odia Dictionary"
      ],
      "metadata": {
        "id": "7U0ZxqwxVqOS"
      }
    },
    {
      "cell_type": "markdown",
      "source": [
        "## 1. Converting PDF pages to images for OCR"
      ],
      "metadata": {
        "id": "zIRRrQ6bVvqj"
      }
    },
    {
      "cell_type": "code",
      "source": [
        "try:\n",
        "  os.mkdir('pages')\n",
        "except:\n",
        "  pass\n",
        "\n",
        "import os\n",
        "from pdf2image import convert_from_path\n",
        "from tqdm import tqdm\n",
        "\n",
        "\n",
        "pages = convert_from_path('Odia.Dictionary.pdf', \n",
        "                          100) # reduced to 100 dpi for testing. normally, using 300 dpi will take a lot of time.\n",
        "\n",
        "for i, page in enumerate(tqdm(pages)):\n",
        "    page.save(f'pages/page{i}.png', 'PNG')"
      ],
      "metadata": {
        "colab": {
          "base_uri": "https://localhost:8080/"
        },
        "id": "1BbfkJTJV4Dv",
        "outputId": "25060a11-2470-47dd-b2ae-d818f57ae263"
      },
      "execution_count": 26,
      "outputs": [
        {
          "output_type": "stream",
          "name": "stderr",
          "text": [
            "100%|██████████| 264/264 [00:20<00:00, 12.71it/s]\n"
          ]
        }
      ]
    },
    {
      "cell_type": "markdown",
      "source": [
        "## 2. Preprocessing - Cropping images into columns"
      ],
      "metadata": {
        "id": "Vkwv1BMd6pUh"
      }
    },
    {
      "cell_type": "code",
      "source": [
        "try:\n",
        "  os.mkdir('pages_processed')\n",
        "except:\n",
        "  pass\n",
        "\n",
        "from PIL import Image\n",
        "import os\n",
        "from tqdm import tqdm\n",
        "\n",
        "for i, img_path in enumerate(tqdm(os.listdir('pages'))):\n",
        "    if int(img_path.split('.')[0][4:]) in range(6, 88):\n",
        "        if img_path.split('.')[-1] == 'png':\n",
        "            img = Image.open(f'pages/{img_path}')\n",
        "            imgs = [\n",
        "                img.crop(( 130,  250,  830,  3050)),\n",
        "                img.crop(( 855,  250, 1569,  3050)),\n",
        "                img.crop((1592,  250, 2336,  3050)),\n",
        "            ]\n",
        "            for i, im in enumerate(imgs):\n",
        "                path = f'pages_processed/{img_path.split(\".\")[0] + f\"_{i}.\" + img_path.split(\".\")[-1]}'\n",
        "                # print(path)\n",
        "                im.save(path)"
      ],
      "metadata": {
        "colab": {
          "base_uri": "https://localhost:8080/"
        },
        "id": "_jGH2dQo5m88",
        "outputId": "96381c65-5fb2-4e3c-f387-92d1061a57fd"
      },
      "execution_count": 27,
      "outputs": [
        {
          "output_type": "stream",
          "name": "stderr",
          "text": [
            "100%|██████████| 264/264 [00:18<00:00, 14.16it/s]\n"
          ]
        }
      ]
    },
    {
      "cell_type": "markdown",
      "source": [
        "## 3. Generating intermediate PDFs from preprocessed images using Tesseract OCR"
      ],
      "metadata": {
        "id": "C_989IsR66Zj"
      }
    },
    {
      "cell_type": "code",
      "source": [
        "try:\n",
        "  os.mkdir('parsed_pdfs')\n",
        "except:\n",
        "  pass\n",
        "\n",
        "import pytesseract\n",
        "from tqdm import tqdm\n",
        "import os\n",
        "\n",
        "\n",
        "# # remove this line on linux.\n",
        "# pytesseract.pytesseract.tesseract_cmd = f\"C:/Program Files/Tesseract-OCR/tesseract.exe\"\n",
        "\n",
        "# different psm mode can change the behaviour of parsing.\n",
        "# refer to documentation for further details.\n",
        "psm_mode = 3\n",
        "config = f'--psm {psm_mode}'\n",
        "source_pdf_folder = 'pages_processed'\n",
        "target_folder = 'parsed_pdfs'\n",
        "lang='ori+eng'\n",
        "\n",
        "for i, image_path in enumerate(tqdm(os.listdir(source_pdf_folder))):\n",
        "    if int(image_path.split('.')[0].split('_')[0][4:]) in range(6, 88):      # only parsing pages 6 - 87, inclusive\n",
        "        source_image_path = os.path.join(source_pdf_folder, image_path)       # for example: source_pdf_folder/page6_0.png\n",
        "        target_image_path = os.path.join(target_folder, f'{image_path}.pdf')  # for example: target_folder/page6_0.png.pdf\n",
        "\n",
        "        with open(target_image_path, 'w+b') as f:\n",
        "            f.write(pytesseract.image_to_pdf_or_hocr(source_image_path, \n",
        "                                                    lang=lang, \n",
        "                                                    extension='pdf', \n",
        "                                                    config=config))"
      ],
      "metadata": {
        "colab": {
          "base_uri": "https://localhost:8080/"
        },
        "id": "UnEbPUah65Go",
        "outputId": "e425c831-8b39-4336-d3a9-bd61bf4e0ebc"
      },
      "execution_count": 31,
      "outputs": [
        {
          "output_type": "stream",
          "name": "stderr",
          "text": [
            "100%|██████████| 246/246 [17:05<00:00,  4.17s/it]\n"
          ]
        }
      ]
    },
    {
      "cell_type": "markdown",
      "source": [
        "## 4. Copying OCR outputs from generated PDFs"
      ],
      "metadata": {
        "id": "Pa-hfmGT7S8o"
      }
    },
    {
      "cell_type": "code",
      "source": [
        "try:\n",
        "  os.mkdir('parsed_texts')\n",
        "except:\n",
        "  pass\n",
        "\n",
        "\n",
        "# importing required modules\n",
        "from PyPDF2 import PdfReader\n",
        "import os\n",
        "from tqdm import tqdm\n",
        "\n",
        "  \n",
        "# creating a pdf reader object\n",
        "\n",
        "source_folder = f'parsed_pdfs'\n",
        "target_folder = f'parsed_texts'\n",
        "\n",
        "for pdf_path in tqdm(os.listdir(f'{source_folder}')):\n",
        "    source_pdf_path = f'{source_folder}/{pdf_path}'\n",
        "    target_text_path = f'{target_folder}/{pdf_path}.txt'\n",
        "\n",
        "    reader = PdfReader(source_pdf_path)\n",
        "    page = reader.pages[0]\n",
        "    text = page.extract_text()\n",
        "    \n",
        "    with open(f'{target_text_path}', 'w+b') as f:\n",
        "        f.write(bytes(text, encoding='utf-8'))"
      ],
      "metadata": {
        "colab": {
          "base_uri": "https://localhost:8080/"
        },
        "id": "Bgu3tQkR7SzN",
        "outputId": "81715d4a-a81e-4cc7-e8ba-8c0b87ec5741"
      },
      "execution_count": 32,
      "outputs": [
        {
          "output_type": "stream",
          "name": "stderr",
          "text": [
            "100%|██████████| 246/246 [01:02<00:00,  3.94it/s]\n"
          ]
        }
      ]
    },
    {
      "cell_type": "markdown",
      "source": [
        "## 5. Restructuring raw OCR outputs using GPT API"
      ],
      "metadata": {
        "id": "wZlH5C1J7x8M"
      }
    },
    {
      "cell_type": "code",
      "source": [
        "try:\n",
        "  os.mkdir('GPT_outputs')\n",
        "except:\n",
        "  pass\n",
        "\n",
        "\n",
        "import openai\n",
        "import os\n",
        "from tqdm import tqdm\n",
        "import html\n",
        "from time import sleep\n",
        "\n",
        "openai.api_key = OPENAI_API_KEY\n",
        "\n",
        "\n",
        "\n",
        "source_folder = f'parsed_texts'\n",
        "output_destination = f'GPT_outputs'\n",
        "\n",
        "for text_path in tqdm(os.listdir(f'{source_folder}')):\n",
        "    input_path = f\"{source_folder}/{text_path}\"\n",
        "    output_path_check = f'{text_path}'\n",
        "    output_path = f'{output_destination}/{text_path}'\n",
        "    try:\n",
        "        if output_path_check not in os.listdir(output_destination):\n",
        "            # text_path = 'page6_0.png.pdf.txt'\n",
        "            with open(input_path, 'rb') as input_text:\n",
        "                input_text_decoded = html.unescape(input_text.read().decode('utf8'))\n",
        "                completion = openai.ChatCompletion.create(\n",
        "                    model = \"gpt-3.5-turbo\",\n",
        "                    temperature = 0.8,\n",
        "                    max_tokens = 2400,\n",
        "                    messages = [\n",
        "                        {\n",
        "                            \"role\": \"system\", \n",
        "                            \"content\": \"You will help me parse raw noisy OCR output into neat tables. The output should contain the proper Odia characters instead of escape sequences.\"\n",
        "                        },\n",
        "                        {\n",
        "                            \"role\": \"user\", \n",
        "                            \"content\": \"\"\"The table should have three columns:\n",
        "                1. Word in English\n",
        "                2. Part of speech it belongs to\n",
        "                3. Odiya Translation of the word\n",
        "\n",
        "                Here is the raw data. Format it into the table. For example, here are the first two rows of the table:\n",
        "\n",
        "                a | Adjective&Article   | ଅରୋଟ୍‌\n",
        "                accordingly |\tAdverb  |  ଆଦିଙ୍କ୍‌ ଲେକେ\"\"\"\n",
        "                        },\n",
        "                        {\n",
        "                            \"role\": \"assistant\",\n",
        "                            \"content\": \"Sure! Please provide me with the raw data, and I'll format it into a three-column table for you.\"\n",
        "                        },\n",
        "                        {\n",
        "                            \"role\": \"user\",\n",
        "                            \"content\": input_text_decoded\n",
        "                        }\n",
        "                    ]\n",
        "                )\n",
        "\n",
        "            gpt_text = html.unescape(completion.choices[0].message['content'])\n",
        "            with open(f'{output_path}', 'w+b') as f:\n",
        "                f.write(gpt_text.encode())\n",
        "            # sleep(5)\n",
        "            # break\n",
        "    except Exception as e:\n",
        "        print(f'error occured during creation of {output_path}:')\n",
        "        print(e)\n",
        "        continue"
      ],
      "metadata": {
        "id": "et3Ame1p70CO"
      },
      "execution_count": null,
      "outputs": []
    },
    {
      "cell_type": "markdown",
      "source": [
        "## 6. Removing unwanted text at the top of GPT outputs\n",
        "Every GPT output has unwanted text right before the tabulated data that goes something like `\"Sure! Here is the formatted three-column table based on the provided raw data:\"`. This section removes that part by deleting the lines at the top of the GPT output text files that do not start with the table delimiter `\"|\"`.\n",
        "\n",
        "**This section needs to be run 2-3 times!**"
      ],
      "metadata": {
        "id": "DkzSm5jV_qMS"
      }
    },
    {
      "cell_type": "code",
      "source": [
        "!rm -rf GPT_outputs/.ipynb_checkpoints/"
      ],
      "metadata": {
        "id": "zoQVeto5CV_U"
      },
      "execution_count": 44,
      "outputs": []
    },
    {
      "cell_type": "code",
      "source": [
        "import os\n",
        "import html\n",
        "\n",
        "source_dir = f'GPT_outputs'\n",
        "\n",
        "for filepath in os.listdir(source_dir):\n",
        "    filepath = os.path.join(source_dir, filepath)\n",
        "\n",
        "    # edit each GPT output text file to remove the unnecessary text before the table begins.\n",
        "    with open(filepath, 'r+b') as f:\n",
        "        first = '|'\n",
        "        file_string = f.read().decode('utf8')\n",
        "        first_index = file_string.index(first)\n",
        "        print(filepath)\n",
        "        print(file_string[:])\n",
        "        f.seek(0)\n",
        "        f.write(file_string[first_index:].encode())\n",
        "        f.truncate()\n",
        "        # break"
      ],
      "metadata": {
        "colab": {
          "base_uri": "https://localhost:8080/"
        },
        "id": "HO93S9UX_4fE",
        "outputId": "e54f64d0-3771-4d59-d017-b9ce629511ae"
      },
      "execution_count": 45,
      "outputs": [
        {
          "output_type": "stream",
          "name": "stdout",
          "text": [
            "GPT_outputs/page65_0.png.pdf.txt\n",
            "| English Word | Part of Speech | Odia Translation |\n",
            "|--------------|-----------------|------------------|\n",
            "| \\ଡ଼ିୟମାଡ଼ାକୋଘ | Noun | ଡିୟମାଡ଼ାକୋଘ |\n",
            "| ୟ୍ୟ୍ର୍ଷି-ଜ୍ଞମଆସିନାମ୍ | Noun | ଜ୍ଞମଆସିନାମ୍ |\n",
            "| ମଦ୍‘ଡଃମ୍ୟାମ୍ବୁଟାପାଡ଼ିୟ | Noun | ମଦ୍‘ଡଃମ୍ୟାମ୍ବୁଟାପାଡ଼ିୟ |\n",
            "| \\ଡ଼ାନୋର | Noun | ଡ଼ାନୋର |\n",
            "| ’ନାଭାମ୍ | Noun | ନାଭାମ୍ |\n",
            "| ୟ୍ପାଟାପାରା | Noun | ପାଟାପାରା |\n",
            "| 7ପାଟାପାଠକୋତ୍ପ | Adjective | ପାଟାପାଠକୋତ୍ପ 7 |\n",
            "| ଢୁପାଟ୍ଟାପାରାନୋଗ | Noun | ଢୁପାଟ୍ଟାପାରା ନୋଗ |\n",
            "| '\\'ୟ୍ତୋପାଗ୍ରି | Noun | ୟ୍ତୋପାଗ୍ରି '\\' |\n",
            "| ମ୍ପୂଣ୍ଠୁଗାଳାଦ୍ର | Noun | ମ୍ପୂଣ୍ଠୁଗାଳାଦ୍ର |\n",
            "| ଶୋମୁନ୍ଦିନ୍ଯା | Noun | ଶୋମୁନ୍ଦିନ୍ଯା |\n",
            "| mn OG | Noun | ଏମ୍ ଓ ଜି |\n",
            "| in, BEIGAQ QE IQ | Noun | ଇନ, ବେଗାକ୍ କ୍ୱେ ଇକ୍ୟୁ |\n",
            "| aieig | Noun | ଐଏଇଗ୍ |\n",
            "| 1. 9A R gE QaIRIQ | Noun | 1. 9ଏ ଆର୍ ଜିଇ କାଇରିକ୍ |\n",
            "| in IGDLAIQ | Noun | ଇଙ୍ଗଡଲାଇକ୍ |\n",
            "| ug | Noun | ଉଗ |\n",
            "| W | Noun | ଡବ୍ଲ୍ୟୁ |\n",
            "| band aie | Noun | ବାଣ୍ଡ ଐଏ |\n",
            "| ) Verh, 1G, GIR | Verb | ଭେର୍ବ୍, ୧ଜି, ଗିର |\n",
            "| 11 Noun. GM1G1 | Noun | ୧୧ ଜିମ୧ଗ୧ |\n",
            "| AIQ | Noun | ଏଏକ୍ୱାଇ |\n",
            "| | BGQ | Noun | ବଗ୍ |\n",
            "| algaig | Noun | ଅଲଗାଇଗ୍ |\n",
            "| aigeaa in of fruit | Noun | ଐଗେଆ ଇନ ଓଫ୍ ଫ୍ରୁଟ |\n",
            "| aigee | Noun | ଐଗେଏ |\n",
            "| skin of onion | Noun | ଅନ୍ଧା ରସୁଣା |\n",
            "| in problems oun | Noun | ଇନ ପ୍ରବ୍ଲେମ୍ସ ଓଉନ |\n",
            "| @1-6QNGIF| | Noun | ଅ୧-୬କ୍ୱିଙ୍ଗିଫ୍ |\n",
            "| AGS corse | Noun | ଏଜିଏସ୍ କୋର୍ସ |\n",
            "| ala gg aust | Noun | ଅଲା ଗଗ ଅଉଷ୍ଟ |\n",
            "| rag aIQ agi | Verb | ରାଗ୍ ଏଏକ୍ ଏଗି |\n",
            "| sleep verb. 8 @h | Verb | ସ୍ୱପ୍ ୮ ଅତିରିକ୍ତ |\n",
            "| AIAG, AIG SHRI | Verb | ଆଇଆଗ୍, ଆଇଗ୍ ଶ୍ରୀ |\n",
            "| sleep curly verb. a1 68@ @ | Verb | ସ୍ୱପ୍ କର୍ଲୀ ଭେର୍ବ୍. ଏ୧ ୬୮୦ ଅତିରିକ୍ତ |\n",
            "| alg 181g | Noun | ଅଲଗ୍ ଏକ୍ସାଇଟ୍ଗ୍ |\n",
            "| sleeper berth Noun. 18 @1 IQ | Noun | ସ୍ଲୀପର୍ ବର୍ଥ ନାଉନ୍. ୧୮ ଏ୧ ଇକ୍ୟୁ |\n",
            "| Ia ASQ, | Verb | ଇଆ ସ୍କ୍ୟୁ |\n",
            "| slice(cleave) verb. 8g @ @I@1 | Verb | ସ୍ଲାଇସ (କ୍ଲିଭ୍) ଭେର୍ବ୍. ୮ଗ ଅତିରିକ୍ତ |\n",
            "| gal | Verb | ଗାଲ |\n",
            "| slid down verb. 4 QQ ag | Verb | ସ୍ଲିଡ୍ ଡାଉନ୍ ଭେର୍ବ୍. ୪ କ୍ୱ୍ୟାର୍ଟର, ଏନ୍ଟର ଏଗି |\n",
            "| slim girl | Adjective | ସ୍ଲିମ୍ ଗର୍ଲ |\n",
            "| slip away ,off re | Verb | ସ୍ଲିପ୍ ଆ\n"
          ]
        }
      ]
    },
    {
      "cell_type": "markdown",
      "source": [
        "## 7. Combining the GPT outputs into the final parsed csv\n"
      ],
      "metadata": {
        "id": "Iqm-FuGlAXwc"
      }
    },
    {
      "cell_type": "code",
      "source": [
        "try:\n",
        "  os.mkdir('parsed_dicts')\n",
        "except:\n",
        "  pass\n",
        "\n",
        "\n",
        "import pandas as pd\n",
        "import numpy as np\n",
        "import os\n",
        "\n",
        "dataframes = []\n",
        "source_dir = f'GPT_outputs'\n",
        "\n",
        "for df_link in os.listdir(source_dir):\n",
        "    try:\n",
        "\n",
        "        df_full_source = f'{source_dir}/{df_link}'\n",
        "        print(df_link)\n",
        "        df = pd.read_csv(f'{df_full_source}', sep='|', on_bad_lines='skip')\n",
        "        if df.shape[1] != 5:\n",
        "            continue\n",
        "        df = df.iloc[:, 1:-1]\n",
        "        df.columns = ['English Word', 'Part of Speech', 'Odia Translation']\n",
        "\n",
        "        dataframes.append(df)\n",
        "        print(df.shape)\n",
        "    except Exception as e:\n",
        "        print(e)\n",
        "        \n",
        "    \n",
        "\n",
        "data = pd.concat(dataframes, axis=0).reset_index(drop=True)\n",
        "print(data.shape)\n",
        "rows_to_remove = data[(data[data.columns[0]].str.contains('-')) & (data[data.columns[1]].str.contains('-')) & (data[data.columns[2]].str.contains('-'))].index\n",
        "data = data.drop(rows_to_remove)\n",
        "\n",
        "data.to_csv('parsed_dicts/parsed_dict_very_unclean.csv', index=None)"
      ],
      "metadata": {
        "colab": {
          "base_uri": "https://localhost:8080/"
        },
        "id": "UrUPcrJmAhBg",
        "outputId": "957ab0b7-d793-45a4-dff1-d34a756da9e0"
      },
      "execution_count": 48,
      "outputs": [
        {
          "output_type": "stream",
          "name": "stdout",
          "text": [
            "page65_0.png.pdf.txt\n",
            "(42, 3)\n",
            "(42, 3)\n"
          ]
        }
      ]
    },
    {
      "cell_type": "code",
      "source": [
        "data.tail()"
      ],
      "metadata": {
        "colab": {
          "base_uri": "https://localhost:8080/",
          "height": 206
        },
        "id": "WV7ooBUUC0zM",
        "outputId": "d60b8aae-66fd-41a0-f4fc-dda91aaea429"
      },
      "execution_count": 49,
      "outputs": [
        {
          "output_type": "execute_result",
          "data": {
            "text/plain": [
              "                       English Word Part of Speech  \\\n",
              "37   slice(cleave) verb. 8g @ @I@1           Verb    \n",
              "38                             gal           Verb    \n",
              "39         slid down verb. 4 QQ ag           Verb    \n",
              "40                       slim girl      Adjective    \n",
              "41               slip away ,off re           Verb    \n",
              "\n",
              "                                  Odia Translation  \n",
              "37            ସ୍ଲାଇସ (କ୍ଲିଭ୍) ଭେର୍ବ୍. ୮ଗ ଅତିରିକ୍ତ   \n",
              "38                                            ଗାଲ   \n",
              "39   ସ୍ଲିଡ୍ ଡାଉନ୍ ଭେର୍ବ୍. ୪ କ୍ୱ୍ୟାର୍ଟର, ଏନ୍ଟର ଏଗି   \n",
              "40                                    ସ୍ଲିମ୍ ଗର୍ଲ   \n",
              "41                                        ସ୍ଲିପ୍ ଆ  "
            ],
            "text/html": [
              "\n",
              "  <div id=\"df-f9149692-61ec-44e3-ab1e-9983f4dd87f8\">\n",
              "    <div class=\"colab-df-container\">\n",
              "      <div>\n",
              "<style scoped>\n",
              "    .dataframe tbody tr th:only-of-type {\n",
              "        vertical-align: middle;\n",
              "    }\n",
              "\n",
              "    .dataframe tbody tr th {\n",
              "        vertical-align: top;\n",
              "    }\n",
              "\n",
              "    .dataframe thead th {\n",
              "        text-align: right;\n",
              "    }\n",
              "</style>\n",
              "<table border=\"1\" class=\"dataframe\">\n",
              "  <thead>\n",
              "    <tr style=\"text-align: right;\">\n",
              "      <th></th>\n",
              "      <th>English Word</th>\n",
              "      <th>Part of Speech</th>\n",
              "      <th>Odia Translation</th>\n",
              "    </tr>\n",
              "  </thead>\n",
              "  <tbody>\n",
              "    <tr>\n",
              "      <th>37</th>\n",
              "      <td>slice(cleave) verb. 8g @ @I@1</td>\n",
              "      <td>Verb</td>\n",
              "      <td>ସ୍ଲାଇସ (କ୍ଲିଭ୍) ଭେର୍ବ୍. ୮ଗ ଅତିରିକ୍ତ</td>\n",
              "    </tr>\n",
              "    <tr>\n",
              "      <th>38</th>\n",
              "      <td>gal</td>\n",
              "      <td>Verb</td>\n",
              "      <td>ଗାଲ</td>\n",
              "    </tr>\n",
              "    <tr>\n",
              "      <th>39</th>\n",
              "      <td>slid down verb. 4 QQ ag</td>\n",
              "      <td>Verb</td>\n",
              "      <td>ସ୍ଲିଡ୍ ଡାଉନ୍ ଭେର୍ବ୍. ୪ କ୍ୱ୍ୟାର୍ଟର, ଏନ୍ଟର ଏଗି</td>\n",
              "    </tr>\n",
              "    <tr>\n",
              "      <th>40</th>\n",
              "      <td>slim girl</td>\n",
              "      <td>Adjective</td>\n",
              "      <td>ସ୍ଲିମ୍ ଗର୍ଲ</td>\n",
              "    </tr>\n",
              "    <tr>\n",
              "      <th>41</th>\n",
              "      <td>slip away ,off re</td>\n",
              "      <td>Verb</td>\n",
              "      <td>ସ୍ଲିପ୍ ଆ</td>\n",
              "    </tr>\n",
              "  </tbody>\n",
              "</table>\n",
              "</div>\n",
              "      <button class=\"colab-df-convert\" onclick=\"convertToInteractive('df-f9149692-61ec-44e3-ab1e-9983f4dd87f8')\"\n",
              "              title=\"Convert this dataframe to an interactive table.\"\n",
              "              style=\"display:none;\">\n",
              "        \n",
              "  <svg xmlns=\"http://www.w3.org/2000/svg\" height=\"24px\"viewBox=\"0 0 24 24\"\n",
              "       width=\"24px\">\n",
              "    <path d=\"M0 0h24v24H0V0z\" fill=\"none\"/>\n",
              "    <path d=\"M18.56 5.44l.94 2.06.94-2.06 2.06-.94-2.06-.94-.94-2.06-.94 2.06-2.06.94zm-11 1L8.5 8.5l.94-2.06 2.06-.94-2.06-.94L8.5 2.5l-.94 2.06-2.06.94zm10 10l.94 2.06.94-2.06 2.06-.94-2.06-.94-.94-2.06-.94 2.06-2.06.94z\"/><path d=\"M17.41 7.96l-1.37-1.37c-.4-.4-.92-.59-1.43-.59-.52 0-1.04.2-1.43.59L10.3 9.45l-7.72 7.72c-.78.78-.78 2.05 0 2.83L4 21.41c.39.39.9.59 1.41.59.51 0 1.02-.2 1.41-.59l7.78-7.78 2.81-2.81c.8-.78.8-2.07 0-2.86zM5.41 20L4 18.59l7.72-7.72 1.47 1.35L5.41 20z\"/>\n",
              "  </svg>\n",
              "      </button>\n",
              "      \n",
              "  <style>\n",
              "    .colab-df-container {\n",
              "      display:flex;\n",
              "      flex-wrap:wrap;\n",
              "      gap: 12px;\n",
              "    }\n",
              "\n",
              "    .colab-df-convert {\n",
              "      background-color: #E8F0FE;\n",
              "      border: none;\n",
              "      border-radius: 50%;\n",
              "      cursor: pointer;\n",
              "      display: none;\n",
              "      fill: #1967D2;\n",
              "      height: 32px;\n",
              "      padding: 0 0 0 0;\n",
              "      width: 32px;\n",
              "    }\n",
              "\n",
              "    .colab-df-convert:hover {\n",
              "      background-color: #E2EBFA;\n",
              "      box-shadow: 0px 1px 2px rgba(60, 64, 67, 0.3), 0px 1px 3px 1px rgba(60, 64, 67, 0.15);\n",
              "      fill: #174EA6;\n",
              "    }\n",
              "\n",
              "    [theme=dark] .colab-df-convert {\n",
              "      background-color: #3B4455;\n",
              "      fill: #D2E3FC;\n",
              "    }\n",
              "\n",
              "    [theme=dark] .colab-df-convert:hover {\n",
              "      background-color: #434B5C;\n",
              "      box-shadow: 0px 1px 3px 1px rgba(0, 0, 0, 0.15);\n",
              "      filter: drop-shadow(0px 1px 2px rgba(0, 0, 0, 0.3));\n",
              "      fill: #FFFFFF;\n",
              "    }\n",
              "  </style>\n",
              "\n",
              "      <script>\n",
              "        const buttonEl =\n",
              "          document.querySelector('#df-f9149692-61ec-44e3-ab1e-9983f4dd87f8 button.colab-df-convert');\n",
              "        buttonEl.style.display =\n",
              "          google.colab.kernel.accessAllowed ? 'block' : 'none';\n",
              "\n",
              "        async function convertToInteractive(key) {\n",
              "          const element = document.querySelector('#df-f9149692-61ec-44e3-ab1e-9983f4dd87f8');\n",
              "          const dataTable =\n",
              "            await google.colab.kernel.invokeFunction('convertToInteractive',\n",
              "                                                     [key], {});\n",
              "          if (!dataTable) return;\n",
              "\n",
              "          const docLinkHtml = 'Like what you see? Visit the ' +\n",
              "            '<a target=\"_blank\" href=https://colab.research.google.com/notebooks/data_table.ipynb>data table notebook</a>'\n",
              "            + ' to learn more about interactive tables.';\n",
              "          element.innerHTML = '';\n",
              "          dataTable['output_type'] = 'display_data';\n",
              "          await google.colab.output.renderOutput(dataTable, element);\n",
              "          const docLink = document.createElement('div');\n",
              "          docLink.innerHTML = docLinkHtml;\n",
              "          element.appendChild(docLink);\n",
              "        }\n",
              "      </script>\n",
              "    </div>\n",
              "  </div>\n",
              "  "
            ]
          },
          "metadata": {},
          "execution_count": 49
        }
      ]
    }
  ]
}